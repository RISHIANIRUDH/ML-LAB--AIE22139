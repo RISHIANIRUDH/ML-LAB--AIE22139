{
 "cells": [
  {
   "cell_type": "markdown",
   "id": "943a15ef-f82c-4adb-bfa9-82deb33693ff",
   "metadata": {},
   "source": [
    "QUESTION-1"
   ]
  },
  {
   "cell_type": "code",
   "execution_count": 1,
   "id": "ae54a660-6475-4401-b9d3-a5d79afd207e",
   "metadata": {},
   "outputs": [
    {
     "name": "stdout",
     "output_type": "stream",
     "text": [
      "The number of pairs in the list [2, 7, 4, 1, 3, 6] with a sum of 10 is: 2\n"
     ]
    }
   ],
   "source": [
    "def pairsum(lst, target_sum):\n",
    "    count = 0\n",
    "    for i in range(len(lst)):\n",
    "        for j in range(i + 1, len(lst)):\n",
    "            if lst[i] + lst[j] == target_sum:\n",
    "                count += 1\n",
    "    return count\n",
    "\n",
    "list = [2, 7, 4, 1, 3, 6]\n",
    "sum = 10\n",
    "paircount = pairsum(list,sum)\n",
    "print(f\"The number of pairs in the list {list} with a sum of {sum} is: {paircount}\")\n"
   ]
  },
  {
   "cell_type": "markdown",
   "id": "c8a4d74e-3819-4e3e-8672-67475e5911c7",
   "metadata": {},
   "source": [
    "QUESTION-2"
   ]
  },
  {
   "cell_type": "code",
   "execution_count": 2,
   "id": "b8fe1555-510d-4090-8622-ca6c5327fa97",
   "metadata": {},
   "outputs": [
    {
     "name": "stdin",
     "output_type": "stream",
     "text": [
      "Input the real numbers separated by commas:  5,3,8,1,0,4\n"
     ]
    },
    {
     "name": "stdout",
     "output_type": "stream",
     "text": [
      "The range of the list [5.0, 3.0, 8.0, 1.0, 0.0, 4.0] is: 8.0\n"
     ]
    }
   ],
   "source": [
    "def calculaterange(lst):\n",
    "    if len(lst) < 3:\n",
    "        return \"The range determination is not possible\"\n",
    "    min_val = min(lst)\n",
    "    max_val = max(lst)\n",
    "    return max_val - min_val\n",
    "\n",
    "def main():\n",
    "    input_str = input(\"Input the real numbers separated by commas: \")\n",
    "    numbers = [float(num) for num in input_str.split(\",\")]\n",
    "    result = calculaterange(numbers)\n",
    "    print(f\"The range of the list {numbers} is: {result}\")\n",
    "\n",
    "if __name__ == \"__main__\":\n",
    "    main()\n"
   ]
  },
  {
   "cell_type": "markdown",
   "id": "1ef6ecc6-aacb-4c6f-9b31-65da7e6a0f03",
   "metadata": {},
   "source": [
    "QUESTION-3"
   ]
  },
  {
   "cell_type": "code",
   "execution_count": 5,
   "id": "61793e54-25b9-4edd-8a42-7103c05e8fb3",
   "metadata": {},
   "outputs": [
    {
     "name": "stdin",
     "output_type": "stream",
     "text": [
      "Enter the number of rows in the matrix:  2\n",
      "Enter the number of columns in the matrix:  2\n"
     ]
    },
    {
     "name": "stdout",
     "output_type": "stream",
     "text": [
      "Enter the elements row-wise:\n"
     ]
    },
    {
     "name": "stdin",
     "output_type": "stream",
     "text": [
      " 1 2 \n",
      " 2 1\n",
      "Enter the positive integer exponent (m):  2\n"
     ]
    },
    {
     "name": "stdout",
     "output_type": "stream",
     "text": [
      "A raised to the power of 2 is:\n",
      "[5.0, 4.0]\n",
      "[4.0, 5.0]\n"
     ]
    }
   ],
   "source": [
    "def multiply(A, B):\n",
    "    result = [[0] * len(B[0]) for _ in range(len(A))]\n",
    "    for i in range(len(A)):\n",
    "        for j in range(len(B[0])):\n",
    "            for k in range(len(B)):\n",
    "                result[i][j] += A[i][k] * B[k][j]\n",
    "    return result\n",
    "\n",
    "def power(A, m):\n",
    "    if not A or len(A) != len(A[0]):\n",
    "        return \"Input matrix should be a square matrix\"\n",
    "    result = A.copy()\n",
    "    for _ in range(m - 1):\n",
    "        result = multiply(result, A)\n",
    "    return result\n",
    "\n",
    "def getmatrix():\n",
    "    while True:\n",
    "        try:\n",
    "            rows = int(input(\"Enter the number of rows in the matrix: \"))\n",
    "            if rows > 0:\n",
    "                break\n",
    "            else:\n",
    "                print(\"Please enter a positive integer for the number of rows.\")\n",
    "        except ValueError:\n",
    "            print(\"Invalid input. Please enter a valid integer for the number of rows.\")\n",
    "\n",
    "    while True:\n",
    "        try:\n",
    "            columns = int(input(\"Enter the number of columns in the matrix: \"))\n",
    "            if columns > 0:\n",
    "                break\n",
    "            else:\n",
    "                print(\"Please enter a positive integer for the number of columns.\")\n",
    "        except ValueError:\n",
    "            print(\"Invalid input. Please enter a valid integer for the number of columns.\")\n",
    "\n",
    "    matrix = []\n",
    "    print(\"Enter the elements row-wise:\")\n",
    "    for _ in range(rows):\n",
    "        row = [float(num) for num in input().split()]\n",
    "        matrix.append(row)\n",
    "    return matrix\n",
    "\n",
    "matrix = getmatrix()\n",
    "exponent = int(input(\"Enter the positive integer exponent (m): \"))\n",
    "result = power(matrix, exponent)\n",
    "print(f\"A raised to the power of {exponent} is:\")\n",
    "for row in result:\n",
    "    print(row)\n"
   ]
  },
  {
   "cell_type": "code",
   "execution_count": 6,
   "id": "68bc04e9-a3c8-4afe-8e3b-784e2e34b5aa",
   "metadata": {},
   "outputs": [
    {
     "name": "stdin",
     "output_type": "stream",
     "text": [
      "Enter the input string:  hippopotamus\n"
     ]
    },
    {
     "name": "stdout",
     "output_type": "stream",
     "text": [
      "The highest occurring character is 'p' with a count of 3.\n"
     ]
    }
   ],
   "source": [
    "def count_highest_occurrence(input_string):\n",
    "    alphabet_count = {}\n",
    "    for char in input_string:\n",
    "        if char.isalpha():\n",
    "            char = char.lower()  \n",
    "            if char in alphabet_count:\n",
    "                alphabet_count[char] += 1\n",
    "            else:\n",
    "                alphabet_count[char] = 1\n",
    "\n",
    "    max_char = max(alphabet_count, key=alphabet_count.get)\n",
    "    max_count = alphabet_count[max_char]\n",
    "    return max_char, max_count\n",
    "input_string = input(\"Enter the input string: \")\n",
    "max_char, max_count = count_highest_occurrence(input_string)\n",
    "print(f\"The highest occurring character is '{max_char}' with a count of {max_count}.\")\n"
   ]
  },
  {
   "cell_type": "code",
   "execution_count": null,
   "id": "f3149926-7928-4a9b-82c7-a59f4e3b3bdc",
   "metadata": {},
   "outputs": [],
   "source": []
  }
 ],
 "metadata": {
  "kernelspec": {
   "display_name": "Python 3 (ipykernel)",
   "language": "python",
   "name": "python3"
  },
  "language_info": {
   "codemirror_mode": {
    "name": "ipython",
    "version": 3
   },
   "file_extension": ".py",
   "mimetype": "text/x-python",
   "name": "python",
   "nbconvert_exporter": "python",
   "pygments_lexer": "ipython3",
   "version": "3.10.8"
  }
 },
 "nbformat": 4,
 "nbformat_minor": 5
}
