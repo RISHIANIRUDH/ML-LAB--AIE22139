{
 "cells": [
  {
   "cell_type": "code",
   "execution_count": 1,
   "id": "534a4ad9-884e-4954-afb0-f50279ec42ae",
   "metadata": {},
   "outputs": [
    {
     "name": "stdout",
     "output_type": "stream",
     "text": [
      "Vector 1:\n"
     ]
    },
    {
     "name": "stdin",
     "output_type": "stream",
     "text": [
      "Enter the vector:  89 57\n"
     ]
    },
    {
     "name": "stdout",
     "output_type": "stream",
     "text": [
      "Vector 2:\n"
     ]
    },
    {
     "name": "stdin",
     "output_type": "stream",
     "text": [
      "Enter the vector:  65 78\n"
     ]
    },
    {
     "name": "stdout",
     "output_type": "stream",
     "text": [
      "Euclidean distance is: 31.89043743820395\n",
      "Manhattan distance is: 45.0\n"
     ]
    }
   ],
   "source": [
    "def euclidean(V1, V2):\n",
    "    if len(V1) != len(V2):\n",
    "        raise ValueError(\"The dimensions must be the same.\")\n",
    "    sum_of_squares = sum((x - y) ** 2 for x, y in zip(V1, V2))\n",
    "    return sum_of_squares ** 0.5\n",
    "\n",
    "def manhattan(V1, V2):\n",
    "    if len(V1) != len(V2):\n",
    "        raise ValueError(\"The dimensions must be the same.\")\n",
    "    return sum(abs(x - y) for x, y in zip(V1, V2))\n",
    "\n",
    "def getvector():\n",
    "    vector_str = input(\"Enter the vector: \")\n",
    "    return [float(x) for x in vector_str.split()]\n",
    "\n",
    "print(\"Vector 1:\")\n",
    "V1 = getvector()\n",
    "print(\"Vector 2:\")\n",
    "V2 = getvector()\n",
    "\n",
    "print(\"Euclidean distance is:\", euclidean(V1, V2))\n",
    "print(\"Manhattan distance is:\", manhattan(V1, V2))\n"
   ]
  },
  {
   "cell_type": "code",
   "execution_count": 2,
   "id": "560b47d4-eebd-4e44-b692-89e3e7131e25",
   "metadata": {},
   "outputs": [
    {
     "name": "stdin",
     "output_type": "stream",
     "text": [
      "Enter the training data points:  4\n",
      "Enter the test data points:  2\n",
      "Enter the number of features:  2\n"
     ]
    },
    {
     "name": "stdout",
     "output_type": "stream",
     "text": [
      "Enter training data points:\n"
     ]
    },
    {
     "name": "stdin",
     "output_type": "stream",
     "text": [
      " 1.0 1.5 0\n",
      " 2.0 2.5 1\n",
      " 3.0 3.5 0\n",
      " 4.0 4.5 1\n"
     ]
    },
    {
     "name": "stdout",
     "output_type": "stream",
     "text": [
      "Enter test data points :\n"
     ]
    },
    {
     "name": "stdin",
     "output_type": "stream",
     "text": [
      " 2.0 3.87\n",
      " 5.67 8.95\n",
      "Enter the value of k:  3\n"
     ]
    },
    {
     "name": "stdout",
     "output_type": "stream",
     "text": [
      "The Predictions for the given data and test data : [1, 1]\n"
     ]
    }
   ],
   "source": [
    "def euclidean(a1, a2):\n",
    "    distance = 0\n",
    "    for i in range(len(a1)):\n",
    "        distance += (a1[i] - a2[i]) ** 2\n",
    "    return distance ** 0.5\n",
    "\n",
    "def knnclassifier(X_train, y_train, X_test, k):\n",
    "    y_pred = []\n",
    "    for test_point in X_test:\n",
    "        distances = [euclidean(test_point, train_point) for train_point in X_train]\n",
    "        nearest_indices = sorted(range(len(distances)), key=lambda i: distances[i])[:k]\n",
    "        k_nearest_labels = [y_train[i] for i in nearest_indices]\n",
    "        label_counts = {}\n",
    "        for label in k_nearest_labels:\n",
    "            if label in label_counts:\n",
    "                label_counts[label] += 1\n",
    "            else:\n",
    "                label_counts[label] = 1\n",
    "        most_common_label = max(label_counts, key=label_counts.get)\n",
    "        y_pred.append(most_common_label)\n",
    "    return y_pred\n",
    "\n",
    "def getinput():\n",
    "    num_train = int(input(\"Enter the training data points: \"))\n",
    "    num_test = int(input(\"Enter the test data points: \"))\n",
    "    num_features = int(input(\"Enter the number of features: \"))\n",
    "    X_train = []\n",
    "    y_train = []\n",
    "    print(\"Enter training data points:\")\n",
    "    for _ in range(num_train):\n",
    "        features = list(map(float, input().split()))\n",
    "        X_train.append(features[:-1])\n",
    "        y_train.append(int(features[-1]))\n",
    "    X_test = []\n",
    "    print(\"Enter test data points :\")\n",
    "    for _ in range(num_test):\n",
    "        features = list(map(float, input().split()))\n",
    "        X_test.append(features)\n",
    "    k = int(input(\"Enter the value of k: \"))\n",
    "    return X_train, y_train, X_test, k\n",
    "\n",
    "def main():\n",
    "    X_train, y_train, X_test, k = getinput()\n",
    "    predictions = knnclassifier(X_train, y_train, X_test, k)\n",
    "    print(\"The Predictions for the given data and test data :\", predictions)\n",
    "\n",
    "if __name__ == \"__main__\":\n",
    "    main()\n"
   ]
  },
  {
   "cell_type": "code",
   "execution_count": 3,
   "id": "ba6f5860-4e31-4df1-84e7-bc75df749370",
   "metadata": {},
   "outputs": [
    {
     "name": "stdin",
     "output_type": "stream",
     "text": [
      "Enter the total number of samples:  3\n",
      "Enter the total number of categorical features:  2\n"
     ]
    },
    {
     "name": "stdout",
     "output_type": "stream",
     "text": [
      "Enter the complete categorical data:\n"
     ]
    },
    {
     "name": "stdin",
     "output_type": "stream",
     "text": [
      "Enter feature 1 for sample 1:  ai\n",
      "Enter feature 2 for sample 1:  student\n",
      "Enter feature 1 for sample 2:  ece \n",
      "Enter feature 2 for sample 2:  faculty\n",
      "Enter feature 1 for sample 3:  ai\n",
      "Enter feature 2 for sample 3:  faculty\n"
     ]
    },
    {
     "name": "stdout",
     "output_type": "stream",
     "text": [
      "\n",
      "Encoded data:\n",
      "[0, 1]\n",
      "[2, 3]\n",
      "[0, 3]\n",
      "\n",
      "Label map:\n",
      "ai: 0\n",
      "student: 1\n",
      "ece : 2\n",
      "faculty: 3\n"
     ]
    }
   ],
   "source": [
    "def labelencoding(data):\n",
    "    labelmap = {}\n",
    "    encodeddata = []\n",
    "    nextlabel = 0\n",
    "    for row in data:\n",
    "        encodedrow = []\n",
    "        for value in row:\n",
    "            if value not in labelmap:\n",
    "                labelmap[value] = nextlabel\n",
    "                nextlabel += 1\n",
    "            encodedrow.append(labelmap[value])\n",
    "        encodeddata.append(encodedrow)\n",
    "    return encodeddata, labelmap\n",
    "\n",
    "def getinput():\n",
    "    samples = int(input(\"Enter the total number of samples: \"))\n",
    "    features = int(input(\"Enter the total number of categorical features: \"))\n",
    "    data = []\n",
    "    print(\"Enter the complete categorical data:\")\n",
    "    for _ in range(samples):\n",
    "        sample = []\n",
    "        for j in range(features):\n",
    "            feature = input(f\"Enter feature {j + 1} for sample {_ + 1}: \")\n",
    "            sample.append(feature)\n",
    "        data.append(sample)\n",
    "    return data\n",
    "\n",
    "\n",
    "def main():\n",
    "    data = getinput()\n",
    "    encodeddata, labelmap = labelencoding(data)\n",
    "    print(\"\\nEncoded data:\")\n",
    "    for row in encodeddata:\n",
    "        print(row)\n",
    "    print(\"\\nLabel map:\")\n",
    "    for label, code in labelmap.items():\n",
    "        print(f\"{label}: {code}\")\n",
    "\n",
    "if __name__ == \"__main__\":\n",
    "    main()\n"
   ]
  },
  {
   "cell_type": "code",
   "execution_count": 4,
   "id": "21a5772b-20f0-442f-ad31-560d8d03d3a8",
   "metadata": {},
   "outputs": [
    {
     "name": "stdin",
     "output_type": "stream",
     "text": [
      "Enter the total number of samples:  3\n",
      "Enter the total number of categorical features:  2\n"
     ]
    },
    {
     "name": "stdout",
     "output_type": "stream",
     "text": [
      "Enter complete categorical data:\n"
     ]
    },
    {
     "name": "stdin",
     "output_type": "stream",
     "text": [
      "Enter feature 1 for sample 1:  ai\n",
      "Enter feature 2 for sample 1:  student\n",
      "Enter feature 1 for sample 2:  ece\n",
      "Enter feature 2 for sample 2:  faculty\n",
      "Enter feature 1 for sample 3:  ai\n",
      "Enter feature 2 for sample 3:  faculty\n"
     ]
    },
    {
     "name": "stdout",
     "output_type": "stream",
     "text": [
      "\n",
      "Encoded data:\n",
      "[1, 1, 0, 0]\n",
      "[0, 0, 1, 1]\n",
      "[0, 1, 1, 0]\n",
      "\n",
      "Unique values:\n",
      "['student', 'ai', 'faculty', 'ece']\n"
     ]
    }
   ],
   "source": [
    "def onehotencoding(data):\n",
    "    values = set()\n",
    "    for row in data:\n",
    "        for value in row:\n",
    "            values.add(value)\n",
    "    values = list(values)\n",
    "    encodeddata = []\n",
    "    for row in data:\n",
    "        encodedrow = []\n",
    "        for value in values:\n",
    "            if value in row:\n",
    "                encodedrow.append(1)\n",
    "            else:\n",
    "                encodedrow.append(0)\n",
    "        encodeddata.append(encodedrow)\n",
    "    return encodeddata, values\n",
    "\n",
    "def getinput():\n",
    "    samples = int(input(\"Enter the total number of samples: \"))\n",
    "    features = int(input(\"Enter the total number of categorical features: \"))\n",
    "    data = []\n",
    "    print(\"Enter complete categorical data:\")\n",
    "    for _ in range(samples):\n",
    "        sample = []\n",
    "        for j in range(features):\n",
    "            feature = input(f\"Enter feature {j + 1} for sample {_ + 1}: \")\n",
    "            sample.append(feature)\n",
    "        data.append(sample)\n",
    "    return data\n",
    "\n",
    "def main():\n",
    "    data = getinput()\n",
    "    encodeddata, values = onehotencoding(data)  \n",
    "    print(\"\\nEncoded data:\")\n",
    "    for row in encodeddata:\n",
    "        print(row) \n",
    "    print(\"\\nUnique values:\")\n",
    "    print(values)\n",
    "\n",
    "if __name__ == \"__main__\":\n",
    "    main()\n"
   ]
  },
  {
   "cell_type": "code",
   "execution_count": null,
   "id": "e4871931-7e4d-4de6-9de5-b225ed1c347d",
   "metadata": {},
   "outputs": [],
   "source": []
  }
 ],
 "metadata": {
  "kernelspec": {
   "display_name": "Python 3 (ipykernel)",
   "language": "python",
   "name": "python3"
  },
  "language_info": {
   "codemirror_mode": {
    "name": "ipython",
    "version": 3
   },
   "file_extension": ".py",
   "mimetype": "text/x-python",
   "name": "python",
   "nbconvert_exporter": "python",
   "pygments_lexer": "ipython3",
   "version": "3.10.8"
  }
 },
 "nbformat": 4,
 "nbformat_minor": 5
}
